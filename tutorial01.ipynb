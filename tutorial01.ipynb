{
 "cells": [
  {
   "cell_type": "markdown",
   "metadata": {},
   "source": [
    "# Python 入門\n",
    "\n",
    "Python は「パイソン」と読みます。プログラミング言語のひとつです。  \n",
    "プログラミング言語には、Python 以外にも C 言語や Java、JavaScript、Ruby など、様々なものがあります。\n",
    "それぞれの言語がすべての用途に適しているわけではなく、それぞれの得手不得手があります。\n",
    "\n",
    "## Python の特徴\n",
    "\n",
    "Python には\n",
    "- 初学者がはじめやすい（少ないコードで見やすいプログラムが書ける）\n",
    "- データ解析、AI・機械学習によく使われている（専門的なライブラリが豊富にある）\n",
    "- モダンで人気がある（新しい言語なので出来が良い。人気が高く、実際に色々な所で使われている）\n",
    "\n",
    "のような特徴があります。"
   ]
  },
  {
   "cell_type": "markdown",
   "metadata": {},
   "source": [
    "# Hello Word\n",
    "Pythonのプログラムで「Hello World」とひょうじしてみましょう。\n",
    "セルの左側にある、「▶ 」（三角のマーク）のアイコンをクリックしてみてください。\n",
    "プログラムが動きます。\n",
    "\n",
    "警告が出たら、「このまま実行」をクリックしてください。\n",
    "\n",
    "「Hello World」が表示されれば成功です。"
   ]
  },
  {
   "cell_type": "code",
   "execution_count": null,
   "metadata": {},
   "outputs": [],
   "source": [
    "print(\"Hello World!\")"
   ]
  },
  {
   "cell_type": "markdown",
   "metadata": {},
   "source": [
    "# 文字と数字\n",
    "文字は、ダブルコーテーション \"～\" で囲います。\n",
    "文字をかえて、プログラムを実行してみましょう。"
   ]
  },
  {
   "cell_type": "code",
   "execution_count": null,
   "metadata": {},
   "outputs": [],
   "source": [
    "print(\"こんにちは世界！\")"
   ]
  }
 ],
 "metadata": {
  "interpreter": {
   "hash": "ec24eec1ddfac0412db90ba5dcf11a0900af859009c3b3ae871ae0e12fad87e6"
  },
  "kernelspec": {
   "display_name": "Python 3.9.6 64-bit",
   "language": "python",
   "name": "python3"
  },
  "language_info": {
   "codemirror_mode": {
    "name": "ipython",
    "version": 3
   },
   "file_extension": ".py",
   "mimetype": "text/x-python",
   "name": "python",
   "nbconvert_exporter": "python",
   "pygments_lexer": "ipython3",
   "version": "3.8.10"
  },
  "orig_nbformat": 4
 },
 "nbformat": 4,
 "nbformat_minor": 2
}
