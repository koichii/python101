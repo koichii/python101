{
 "cells": [
  {
   "cell_type": "markdown",
   "metadata": {},
   "source": [
    "# Python 入門\n",
    "\n",
    "Python は「パイソン」と読みます。プログラミング言語のひとつです。  \n",
    "プログラミング言語には、Python 以外にも C 言語や Java、JavaScript、Ruby など、様々なものがあります。\n",
    "それぞれの言語がすべての用途に適しているわけではなく、それぞれの得手不得手があります。\n",
    "\n",
    "## Python の特徴\n",
    "\n",
    "Python には\n",
    "- 初学者がはじめやすい（少ないコードで見やすいプログラムが書ける）\n",
    "- データ解析、AI・機械学習によく使われている（専門的なライブラリが豊富にある）\n",
    "- モダンで人気がある（新しい言語なので出来が良い。人気が高く、実際に色々な所で使われている）\n",
    "\n",
    "のような特徴があります。"
   ]
  },
  {
   "cell_type": "markdown",
   "metadata": {},
   "source": [
    "## Hello,World! と表示してみよう\n",
    "Pythonのプログラムで「Hello,World!」と表示してみましょう。  \n",
    "下のセルの左側にある [  ] にカーソルをあわせ、▶（三角のマーク）のアイコンをクリックして、プログラムを実行してください。\n",
    "\n",
    "警告が出たら、「このまま実行」をクリックしてください。\n",
    "\n",
    "セルの下に「Hello,World!」と表示されれば成功です。おめでとう！"
   ]
  },
  {
   "cell_type": "code",
   "execution_count": null,
   "metadata": {},
   "outputs": [],
   "source": [
    "print(\"Hello,World!\")"
   ]
  },
  {
   "cell_type": "markdown",
   "metadata": {},
   "source": [
    "## いろいろな文字を表示してみよう\n",
    "ダブルコーテーション \"～\" または、シングルコーテーション '～' で囲われたものは、文字です。  \n",
    "下のセルの\"こんにちは世界！\" の文字を別の文字にかえて、プログラムを実行してみましょう。\n",
    "（へんな文字が、たくさん出てきたら、エラーです。デバッグして、プログラムを直してみましょう。）"
   ]
  },
  {
   "cell_type": "code",
   "execution_count": null,
   "metadata": {},
   "outputs": [],
   "source": [
    "print(\"こんにちは、世界！\")"
   ]
  },
  {
   "cell_type": "markdown",
   "metadata": {},
   "source": [
    "## 数を計算してみよう\n",
    "0から9ではじまるものは数（かず）です。+ - * / とくみあわせて計算してみましょう。  \n",
    "プログラムを好きなように変えて、実行してみてください。どのような結果になるでしょう。  \n",
    "ちなみにシャープ # ではじまる行は、コメントです。コメントは、プログラムの中に書く、人間のためのメモです。コンピューターは、コメントを無視します。"
   ]
  },
  {
   "cell_type": "code",
   "execution_count": null,
   "metadata": {},
   "outputs": [],
   "source": [
    "# たし算は、プラス + をつかいます\n",
    "print(\"1 たす 1 は\")\n",
    "print(1 + 1)\n",
    "\n",
    "# ひき算は、マイナス - をつかいます\n",
    "print(\"5 ひく 2 は\")\n",
    "print(5 - 2)\n",
    "\n",
    "# かけ算は、アスタリスク * をつかいます\n",
    "print(\"3 かける 4 は\")\n",
    "print(3 * 4)\n",
    "\n",
    "# わり算は、スラッシュ / をつかいます\n",
    "print(\"12 わる 3 は\")\n",
    "print(12 / 3)"
   ]
  },
  {
   "cell_type": "markdown",
   "metadata": {},
   "source": [
    "## 変数（へんすう）を使ってみよう\n",
    "変数は、名前の付いたハコのようなものです。数や文字をいれておいて、後でとりだして、つかうことができます。  \n",
    "変数の名前は、アルファベット（A ～ Z, a ～ z）をつかいます。  \n",
    "変数に、数や文字をいれるときは、イコール = をつかいます。  \n",
    "さきほどの計算は、変数を使って、このように書き直すことができます。プログラムを好きなように変えて、うごかしてみましょう。"
   ]
  },
  {
   "cell_type": "code",
   "execution_count": null,
   "metadata": {},
   "outputs": [],
   "source": [
    "# たし算は、プラス + をつかいます\n",
    "A = 1\n",
    "B = A + A\n",
    "print(\"1 たす 1 は\")\n",
    "print(B)\n",
    "\n",
    "# ひき算は、マイナス - をつかいます\n",
    "C = 5 - B\n",
    "print(\"5 ひく 2 は\")\n",
    "print(C)\n",
    "\n",
    "# かけ算は、アスタリスク * をつかいます\n",
    "D = C * 4\n",
    "print(\"3 かける 4 は\")\n",
    "print(D)\n",
    "\n",
    "# わり算は、スラッシュ / をつかいます\n",
    "print(\"12 わる 3 は\")\n",
    "print(D / 3)"
   ]
  },
  {
   "cell_type": "markdown",
   "metadata": {},
   "source": [
    "## リストを使ってみよう\n",
    "リストは、変数を、ならべたものです。順番になにかをすることができます。\n"
   ]
  },
  {
   "cell_type": "code",
   "execution_count": 49,
   "metadata": {},
   "outputs": [
    {
     "name": "stdout",
     "output_type": "stream",
     "text": [
      "[6, 3, 0, 8, 7]\n",
      "lst[1]: 3\n",
      "[6, 3, 22, 8, 7]\n",
      "6\n",
      "3\n",
      "22\n",
      "8\n",
      "7\n",
      "46\n",
      "6 は 6 より大きくない\n",
      "3 は 6 より大きくない\n",
      "22 は 6 より大きい\n",
      "8 は 6 より大きい\n",
      "7 は 6 より大きい\n",
      "22\n"
     ]
    }
   ],
   "source": [
    "import random\n",
    "lst = random.sample(range(10),5)\n",
    "print(lst)\n",
    "print(\"lst[1]:\", lst[1])\n",
    "lst[2] = 22\n",
    "print(lst)\n",
    "\n",
    "# リストの中を、ひとつづつ しらべる\n",
    "for v in lst:\n",
    "    print(v)\n",
    "\n",
    "# 合計をもとめる\n",
    "s = 0\n",
    "for v in lst:\n",
    "    s = s + v\n",
    "print(s)\n",
    "\n",
    "# さいしょの数より大きいのは\n",
    "a = lst[0]\n",
    "for v in lst:\n",
    "    if v > a:\n",
    "        print(v, \"は\", a, \"より大きい\")\n",
    "    else:\n",
    "        print(v, \"は\", a, \"より大きくない\")\n",
    "\n",
    "\n",
    "# 最大をもとめる\n",
    "m = 0\n",
    "for v in lst:\n",
    "    if v > m:\n",
    "        m = v\n",
    "print(m)\n"
   ]
  }
 ],
 "metadata": {
  "interpreter": {
   "hash": "ec24eec1ddfac0412db90ba5dcf11a0900af859009c3b3ae871ae0e12fad87e6"
  },
  "kernelspec": {
   "display_name": "Python 3.9.6 64-bit",
   "language": "python",
   "name": "python3"
  },
  "language_info": {
   "codemirror_mode": {
    "name": "ipython",
    "version": 3
   },
   "file_extension": ".py",
   "mimetype": "text/x-python",
   "name": "python",
   "nbconvert_exporter": "python",
   "pygments_lexer": "ipython3",
   "version": "3.8.10"
  },
  "orig_nbformat": 4
 },
 "nbformat": 4,
 "nbformat_minor": 2
}
