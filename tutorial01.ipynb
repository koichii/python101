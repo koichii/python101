{
 "cells": [
  {
   "cell_type": "markdown",
   "metadata": {},
   "source": [
    "# Python 入門\n",
    "\n",
    "Python は「パイソン」と読みます。プログラミング言語のひとつです。  \n",
    "プログラミング言語には、Python 以外にも C 言語や Java、JavaScript、Ruby など、様々なものがあります。\n",
    "それぞれの言語がすべての用途に適しているわけではなく、それぞれの得手不得手があります。\n",
    "\n",
    "## Python の特徴\n",
    "\n",
    "Python には\n",
    "- 初学者がはじめやすい（少ないコードで見やすいプログラムが書ける）\n",
    "- データ解析、AI・機械学習によく使われている（専門的なライブラリが豊富にある）\n",
    "- モダンで人気がある（新しい言語なので出来が良い。人気が高く、実際に色々な所で使われている）\n",
    "\n",
    "のような特徴があります。"
   ]
  },
  {
   "cell_type": "markdown",
   "metadata": {},
   "source": [
    "## Hello,World! と表示してみよう\n",
    "Pythonのプログラムで「Hello,World!」と表示してみましょう。  \n",
    "下のセルの左側にある [  ] にカーソルをあわせ、▶（三角のマーク）のアイコンをクリックして、プログラムを実行してください。\n",
    "\n",
    "警告が出たら、「このまま実行」をクリックしてください。\n",
    "\n",
    "セルの下に「Hello,World!」と表示されれば成功です。おめでとう！"
   ]
  },
  {
   "cell_type": "code",
   "execution_count": null,
   "metadata": {},
   "outputs": [],
   "source": [
    "print(\"Hello,World!\")"
   ]
  },
  {
   "cell_type": "markdown",
   "metadata": {},
   "source": [
    "## いろいろな文字を表示してみよう\n",
    "ダブルコーテーション \"～\" または、シングルコーテーション '～' で囲われたものは、文字です。  \n",
    "下のセルの\"こんにちは世界！\" の文字を別の文字にかえて、プログラムを実行してみましょう。\n",
    "（へんな文字が、たくさん出てきたら、エラーです。デバッグして、プログラムを直してみましょう。）"
   ]
  },
  {
   "cell_type": "code",
   "execution_count": null,
   "metadata": {},
   "outputs": [],
   "source": [
    "print(\"こんにちは、世界！\")"
   ]
  },
  {
   "cell_type": "markdown",
   "metadata": {},
   "source": [
    "## 数を計算してみよう\n",
    "0から9ではじまるものは数（かず）です。+ - * / とくみあわせて計算してみましょう。  \n",
    "プログラムを好きなように変えて、実行してみてください。どのような結果になるでしょう。  \n",
    "ちなみにシャープ # ではじまる行は、コメントです。コメントは、プログラムの中に書く、人間のためのメモです。コンピューターは、コメントを無視します。"
   ]
  },
  {
   "cell_type": "code",
   "execution_count": null,
   "metadata": {},
   "outputs": [],
   "source": [
    "# たし算は、プラス + をつかいます\n",
    "print(\"1 たす 1 は\")\n",
    "print(1 + 1)\n",
    "\n",
    "# ひき算は、マイナス - をつかいます\n",
    "print(\"5 ひく 2 は\")\n",
    "print(5 - 2)\n",
    "\n",
    "# かけ算は、アスタリスク * をつかいます\n",
    "print(\"3 かける 4 は\")\n",
    "print(3 * 4)\n",
    "\n",
    "# わり算は、スラッシュ / をつかいます\n",
    "print(\"12 わる 3 は\")\n",
    "print(12 / 3)"
   ]
  },
  {
   "cell_type": "markdown",
   "metadata": {},
   "source": [
    "## 変数（へんすう）を使ってみよう\n",
    "変数は、名前の付いたハコのようなものです。数や文字をいれておいて、後でとりだして、つかうことができます。  \n",
    "変数の名前は、アルファベット（A ～ Z, a ～ z）ではじまる、英数字をつかいます。（日本語はおすすめしません）  \n",
    "変数に、数や文字をいれるときは、イコール = をつかいます。  \n",
    "さきほどの計算は、変数を使って、このように書き直すことができます。プログラムを好きなように変えて、うごかしてみましょう。"
   ]
  },
  {
   "cell_type": "code",
   "execution_count": null,
   "metadata": {},
   "outputs": [],
   "source": [
    "# 変数 A に 1 をいれます\n",
    "A = 1\n",
    "print(A)\n",
    "\n",
    "# たし算は、プラス + をつかいます\n",
    "B = A + A\n",
    "print(\"1 たす 1 は\", B)\n",
    "\n",
    "# ひき算は、マイナス - をつかいます\n",
    "C = 5 - B\n",
    "print(\"5 ひく 2 は\", C)\n",
    "\n",
    "# かけ算は、アスタリスク * をつかいます\n",
    "D = C * 4\n",
    "print(\"3 かける 4 は\", D)\n",
    "\n",
    "# わり算は、スラッシュ / をつかいます\n",
    "print(\"12 わる 3 は\", D / 3)"
   ]
  },
  {
   "cell_type": "markdown",
   "metadata": {},
   "source": [
    "## もし～なら、条件分岐（じょうけんぶんき）を使ってみよう\n",
    "下のプログラムは、以下のいみです。\n",
    "\n",
    "もし a が b より大きい なら：  \n",
    "    print(a, \"は\", b, \"より大きい\")\n",
    "\n",
    "条件分岐では、条件文の最後にコロン : を書きます。\n",
    "そして、条件が一致したときにだけ実行する文は、インデント（字下げ）して、前に空白をいれます。\n",
    "\n",
    "a と b の値（あたい）をかえて、実行してみましょう。"
   ]
  },
  {
   "cell_type": "code",
   "execution_count": null,
   "metadata": {},
   "outputs": [],
   "source": [
    "a = 5\n",
    "b = 2\n",
    "if a > b:\n",
    "    print(a, \"は\", b, \"より大きい\")\n",
    "\n",
    "print(\"おわり\")"
   ]
  },
  {
   "cell_type": "markdown",
   "metadata": {},
   "source": [
    "## ひかく\n",
    "\n",
    "大きい： >  \n",
    "小さい： <  \n",
    "以上　： >=  \n",
    "以下　： <=  \n",
    "おなじ： ==  \n",
    "ちがう： !=  \n",
    "\n",
    "a と b の値（あたい）をかえて、実行してみましょう。"
   ]
  },
  {
   "cell_type": "code",
   "execution_count": null,
   "metadata": {},
   "outputs": [],
   "source": [
    "a = 5\n",
    "b = 2\n",
    "if a > b:\n",
    "    print(a, \"は\", b, \"より大きい\")\n",
    "if a < b:\n",
    "    print(a, \"は\", b, \"より小さい\")\n",
    "if a >= b:\n",
    "    print(a, \"は\", b, \"以上\")\n",
    "if a <= b:\n",
    "    print(a, \"は\", b, \"以下\")\n",
    "if a == b:\n",
    "    print(a, \"は\", b, \"と おなじ\")\n",
    "if a != b:\n",
    "    print(a, \"は\", b, \"と ちがう\")"
   ]
  },
  {
   "cell_type": "markdown",
   "metadata": {},
   "source": [
    "## もし～なら～でなければ を使ってみよう\n",
    "下のプログラムは、以下のいみです。\n",
    "\n",
    "もし a が b より大きい なら：  \n",
    "    print(a, \"は\", b, \"より大きい\")  \n",
    "でなければ：  \n",
    "    print(a, \"は\", b, \"より大きくない\")  \n",
    "\n",
    "a と b の値（あたい）をかえて、実行してみましょう。"
   ]
  },
  {
   "cell_type": "code",
   "execution_count": null,
   "metadata": {},
   "outputs": [],
   "source": [
    "a = 5\n",
    "b = 2\n",
    "if a > b:\n",
    "    print(a, \"は\", b, \"より大きい\")\n",
    "else:\n",
    "    print(a, \"は\", b, \"より大きくない\")\n"
   ]
  },
  {
   "cell_type": "markdown",
   "metadata": {},
   "source": [
    "## リストを使ってみよう\n",
    "リストは、変数を、ならべたものです。順番になにかをすることができます。  \n",
    "リスト［番号］という かきかたで、リストの中のひとつを取り出したり、値を入れたりできます。  \n",
    "番号は、ゼロからはじまることに注意してください。"
   ]
  },
  {
   "cell_type": "code",
   "execution_count": null,
   "metadata": {},
   "outputs": [],
   "source": [
    "lst = [3,2,5,8]\n",
    "print(lst)\n",
    "\n",
    "#リストの一部をとりだす\n",
    "print(\"lst の2番目は？\", lst[1])\n",
    "\n",
    "#リストの一部をいれかえる\n",
    "lst[2] = 4\n",
    "print(\"lst の3番目に 4 を入れました\")\n",
    "print(lst)"
   ]
  },
  {
   "cell_type": "markdown",
   "metadata": {},
   "source": [
    "## くりかえし をつかってみよう\n",
    "リストは、くりかえしをつかって、ひとつづつ 何かをしたりできます。"
   ]
  },
  {
   "cell_type": "code",
   "execution_count": null,
   "metadata": {},
   "outputs": [],
   "source": [
    "# リストの中を、ひとつづつ プリントする\n",
    "lst = [3,2,5,8]\n",
    "for v in lst:\n",
    "    print(v)\n"
   ]
  },
  {
   "cell_type": "markdown",
   "metadata": {},
   "source": [
    "## くりかえし をつかってみよう\n",
    "リストは、くりかえしをつかって、ひとつづつ 計算をしたりも できます。"
   ]
  },
  {
   "cell_type": "code",
   "execution_count": null,
   "metadata": {},
   "outputs": [],
   "source": [
    "# リストの中を、ひとつづつ 計算する\n",
    "lst = [3,2,5,8]\n",
    "num = 1\n",
    "for v in lst:\n",
    "    print(num, \"番目:\", v)\n",
    "    print(\"v * v は\", v * v)\n",
    "    print(\"---\")\n",
    "    num = num + 1"
   ]
  },
  {
   "cell_type": "markdown",
   "metadata": {},
   "source": [
    "## リストを使って、いろいろな計算をしてみよう\n",
    "リストの数をぜんぶ足して合計を出したり   \n",
    "数をしらべたり  \n",
    "いろいろなことができます。"
   ]
  },
  {
   "cell_type": "code",
   "execution_count": null,
   "metadata": {},
   "outputs": [],
   "source": [
    "# 合計をもとめる\n",
    "lst = [1,2,3,4,5,6,7,8,9,10]\n",
    "s = 0\n",
    "for v in lst:\n",
    "    s = s + v\n",
    "print(\"合計は\", s)"
   ]
  },
  {
   "cell_type": "markdown",
   "metadata": {},
   "source": [
    "## リストを使って、いちばん大きなかずを みつけよう\n",
    "リストの中の いちばん大きな数（最大）を みつけるプログラムです。  \n",
    "どうやって、いちばん大きな数をみつけているのか、よーくかんがえてみよう。"
   ]
  },
  {
   "cell_type": "code",
   "execution_count": null,
   "metadata": {},
   "outputs": [],
   "source": [
    "# 最大をもとめる\n",
    "lst = [3, 2, 8, 4, 7]\n",
    "m = 0\n",
    "for v in lst:\n",
    "    if v > m:\n",
    "        m = v\n",
    "print(\"最大は\", m)"
   ]
  },
  {
   "cell_type": "markdown",
   "metadata": {},
   "source": [
    "## ランダムを使ってみよう\n",
    "random（ランダム）モジュールをつかうと、ランダムなかずをつくることができます。  \n",
    "下のプログラムでは、0から9の数字を、ランダムに5個ならべ、lst 変数に入れています。  \n",
    "そのあとに、リストの中の いちばん大きな数（最大）を みつけます。\n",
    "このプログラムを改造して、いちばん小さな数（最小）を みつけてみよう。"
   ]
  },
  {
   "cell_type": "code",
   "execution_count": null,
   "metadata": {},
   "outputs": [],
   "source": [
    "# ランダムなリストをつくる\n",
    "import random\n",
    "lst = random.sample(range(10),5)\n",
    "print(lst)\n",
    "\n",
    "# リストから、いちばん大きな数をみつける\n",
    "m = 0\n",
    "for v in lst:\n",
    "    if v > m:\n",
    "        m = v\n",
    "print(\"最大は\", m)\n",
    "\n",
    "# リストから、いちばん小さな数をみつけるプログラムをつくろう\n"
   ]
  }
 ],
 "metadata": {
  "interpreter": {
   "hash": "ec24eec1ddfac0412db90ba5dcf11a0900af859009c3b3ae871ae0e12fad87e6"
  },
  "kernelspec": {
   "display_name": "Python 3.9.6 64-bit",
   "language": "python",
   "name": "python3"
  },
  "language_info": {
   "codemirror_mode": {
    "name": "ipython",
    "version": 3
   },
   "file_extension": ".py",
   "mimetype": "text/x-python",
   "name": "python",
   "nbconvert_exporter": "python",
   "pygments_lexer": "ipython3",
   "version": "3.8.10"
  },
  "orig_nbformat": 4
 },
 "nbformat": 4,
 "nbformat_minor": 2
}
