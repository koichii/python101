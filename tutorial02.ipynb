{
 "cells": [
  {
   "cell_type": "markdown",
   "metadata": {},
   "source": [
    "# Python 入門\n",
    "\n",
    "Python は「パイソン」と読みます。プログラミング言語のひとつです。  \n",
    "プログラミング言語には、Python 以外にも C 言語や Java、JavaScript、Ruby など、様々なものがあります。\n",
    "それぞれの言語がすべての用途に適しているわけではなく、それぞれの得手不得手があります。\n",
    "\n",
    "## Python の特徴\n",
    "\n",
    "Python には\n",
    "- 初学者がはじめやすい言語\n",
    "- データ解析や機械学習によく使われている\n",
    "- Web アプリケーションの開発などでもよく使われている\n",
    "\n",
    "のような特徴があります。"
   ]
  },
  {
   "cell_type": "code",
   "execution_count": 1,
   "metadata": {},
   "outputs": [
    {
     "data": {
      "text/plain": [
       "2"
      ]
     },
     "execution_count": 1,
     "metadata": {},
     "output_type": "execute_result"
    }
   ],
   "source": [
    "1 + 1"
   ]
  }
 ],
 "metadata": {
  "language_info": {
   "name": "plaintext"
  },
  "orig_nbformat": 4
 },
 "nbformat": 4,
 "nbformat_minor": 2
}
