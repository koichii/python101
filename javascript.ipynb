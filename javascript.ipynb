{
 "cells": [
  {
   "cell_type": "markdown",
   "metadata": {},
   "source": [
    "# JavaScript\n",
    "\n",
    "Gooogle Colaboratory で JavaScript コードを実行します"
   ]
  },
  {
   "cell_type": "code",
   "execution_count": null,
   "metadata": {},
   "outputs": [],
   "source": [
    "from IPython.display import display, Javascript\n",
    "from google.colab import output\n",
    "from google.colab.output import eval_js\n",
    "\n",
    "js = Javascript('''\n",
    "async function load_image(label = \"button\") {\n",
    "    const div = document.createElement('div');\n",
    "    var button = document.createElement('button');\n",
    "    var log = document.createElement('div');\n",
    "\n",
    "    button.textContent = label;\n",
    "    button.onclick = function(){\n",
    "        log.innerHTML += \"Button Clicked.\";\n",
    "    }\n",
    "    div.appendChild(button)\n",
    "    div.appendChild(log)\n",
    "\n",
    "    document.querySelector(\"#output-area\").appendChild(div);\n",
    "    return\n",
    "}''')\n",
    "\n",
    "display(js)\n",
    "eval_js('load_image()')\n"
   ]
  }
 ],
 "metadata": {
  "interpreter": {
   "hash": "ec24eec1ddfac0412db90ba5dcf11a0900af859009c3b3ae871ae0e12fad87e6"
  },
  "kernelspec": {
   "display_name": "Python 3.9.6 64-bit",
   "language": "python",
   "name": "python3"
  },
  "language_info": {
   "codemirror_mode": {
    "name": "ipython",
    "version": 3
   },
   "file_extension": ".py",
   "mimetype": "text/x-python",
   "name": "python",
   "nbconvert_exporter": "python",
   "pygments_lexer": "ipython3",
   "version": "3.8.10"
  },
  "orig_nbformat": 4
 },
 "nbformat": 4,
 "nbformat_minor": 2
}
