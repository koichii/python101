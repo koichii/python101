{
 "cells": [
  {
   "cell_type": "code",
   "execution_count": null,
   "metadata": {},
   "outputs": [],
   "source": []
  },
  {
   "cell_type": "markdown",
   "metadata": {},
   "source": [
    "# コロナ\n",
    "\n",
    "https://storage.googleapis.com/covid-external/COVID-19ForecastUserGuideJapan_Japanese.pdf "
   ]
  },
  {
   "cell_type": "code",
   "execution_count": null,
   "metadata": {},
   "outputs": [],
   "source": [
    "# これを最初にインストールします\n",
    "!pip install bar_chart_race"
   ]
  },
  {
   "cell_type": "code",
   "execution_count": null,
   "metadata": {},
   "outputs": [],
   "source": [
    "import pandas as pd\n",
    "import bar_chart_race as bcr\n",
    "df = pd.read_csv('https://storage.googleapis.com/covid-external/forecast_JAPAN_PREFECTURE_28.csv')\n",
    "df = df.pivot_table(index='target_prediction_date', \n",
    "    columns='prefecture_name',\n",
    "    values='cumulative_deaths')\n",
    "bcr.bar_chart_race(df=df, n_bars=10)\n",
    "\n",
    "#cumulative_confirmed\n",
    "#cumulative_confirmed_q0975"
   ]
  },
  {
   "cell_type": "markdown",
   "metadata": {},
   "source": [
    "## タイタニック"
   ]
  },
  {
   "cell_type": "code",
   "execution_count": null,
   "metadata": {},
   "outputs": [],
   "source": [
    "import pandas as pd\n",
    "\n",
    "# タイタニックデータの取得\n",
    "url='https://raw.githubusercontent.com/mwaskom/seaborn-data/master/raw/titanic.csv'\n",
    "titanic=pd.read_csv(url)\n",
    "# データの確認\n",
    "print(titanic.head(3))\n",
    "\n",
    "# 年齢に欠損があるので欠損値に平均年齢を代入\n",
    "titanic[\"age\"] = titanic[\"age\"].fillna(titanic[\"age\"].median())\n",
    "\n",
    "pd.pivot_table(titanic, index='pclass', columns='sex',  values='age', margins=True)"
   ]
  }
 ],
 "metadata": {
  "language_info": {
   "name": "python"
  },
  "orig_nbformat": 4
 },
 "nbformat": 4,
 "nbformat_minor": 2
}
