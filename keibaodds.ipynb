{
 "cells": [
  {
   "cell_type": "markdown",
   "metadata": {},
   "source": [
    "# 競馬のオッズを計算しよう\n",
    "\n",
    "競馬では、どの馬が早く走るかを予想して、その馬の「馬券」を買います。  \n",
    "予想がはずれるとお金は返ってきませんが、予想があたると何倍かのお金が返ってきます。これを払戻金（はらいもどしきん）と言います。  \n",
    "払戻金が、何倍になるかが「オッズ」です。  \n",
    "例えば、100円が200円になる場合、「オッズは2倍」となります。  \n",
    "\n",
    "## 払い戻しの方法\n",
    "\n",
    "計算を簡単にするために、単勝（1着をあてる）だけで考えます。払い戻しは以下のように行われます。\n",
    "1. 売れた馬券の合計金額を出す\n",
    "2. 合計金額に控除率を掛けて、払戻金とする\n",
    "3. 払戻金を、1着の馬券を買った人で山分けする\n",
    "\n",
    "## オッズの計算方法\n",
    "\n",
    "例えば、それぞれの馬券の売上が以下の通りで、控除率が80%の場合：\n",
    "\n",
    "- 馬券1：500万円\n",
    "- 馬券2：200万円\n",
    "- 馬券3：300万円\n",
    "\n",
    "馬券1のオッズは、\n",
    "\n",
    "1. 馬券の合計金額は 1000万円\n",
    "2. 控除率をかけて 1000万円 * 80% で 800万円（差額の200万円はJRAの取分）\n",
    "3. 500万円 が 800万円 になるので、オッズは 800 ÷ 500 で 1.6倍\n",
    "\n",
    "となります。"
   ]
  },
  {
   "cell_type": "markdown",
   "metadata": {},
   "source": [
    "## オッズを計算するプログラムをつくろう\n",
    "以下は、馬券1, 2, 3 の売上が入ったリストの中を表示するプログラムです。\n",
    "これを改造して、それぞれの馬券のオッズを計算して、表示するプログラムをつくってください。\n",
    "以下のように表示されれば正解です。\n",
    "\n",
    "- 馬券 1 のオッズは 1.6 倍\n",
    "- 馬券 2 のオッズは 4.0 倍\n",
    "- 馬券 3 のオッズは 2.6666666666666665 倍"
   ]
  },
  {
   "cell_type": "code",
   "execution_count": null,
   "metadata": {},
   "outputs": [],
   "source": [
    "# 馬券売上\n",
    "lst = [500, 200, 300]\n",
    "# 控除率\n",
    "kojyo = 0.8\n",
    "\n",
    "num = 1\n",
    "for uriage in lst:\n",
    "    print(\"馬券\", num, \"の売上は\", uriage, \"万円\")\n",
    "    num = num + 1\n",
    "print(\"控除率\", kojyo * 100, \"%\")\n"
   ]
  }
 ],
 "metadata": {
  "interpreter": {
   "hash": "ec24eec1ddfac0412db90ba5dcf11a0900af859009c3b3ae871ae0e12fad87e6"
  },
  "kernelspec": {
   "display_name": "Python 3.9.6 64-bit",
   "language": "python",
   "name": "python3"
  },
  "language_info": {
   "codemirror_mode": {
    "name": "ipython",
    "version": 3
   },
   "file_extension": ".py",
   "mimetype": "text/x-python",
   "name": "python",
   "nbconvert_exporter": "python",
   "pygments_lexer": "ipython3",
   "version": "3.8.10"
  },
  "orig_nbformat": 4
 },
 "nbformat": 4,
 "nbformat_minor": 2
}
