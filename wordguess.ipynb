{
 "cells": [
  {
   "cell_type": "markdown",
   "metadata": {},
   "source": [
    "# 単語あてゲーム\n",
    "\n",
    "ぎゃくから表示された単語を正しく入力して、その早さを競います"
   ]
  },
  {
   "cell_type": "code",
   "execution_count": null,
   "metadata": {},
   "outputs": [],
   "source": [
    "import time\n",
    "\n",
    "def reverse(string):\n",
    "    reversed_str = ''\n",
    "    for i in string:\n",
    "        reversed_str = i + reversed_str\n",
    "    return reversed_str\n",
    "\n",
    "quiz = [\"news\",\"hello\",\"girl\",\"chair\",\"desk\"] \n",
    "start = time.time()\n",
    "i = 0\n",
    "while i < len(quiz):\n",
    "    q = quiz[i]\n",
    "    r = reverse(q)\n",
    "    print(\"「\",r,\"」をぎゃくからいれると？\")\n",
    "    a = input()\n",
    "    if q == a:\n",
    "        print(\"せいかい！\")\n",
    "        i += 1\n",
    "    else:\n",
    "        print(\"まちがい!\")\n",
    "stop = time.time()\n",
    "print(stop - start, \"びょうでした\")"
   ]
  }
 ],
 "metadata": {
  "interpreter": {
   "hash": "ec24eec1ddfac0412db90ba5dcf11a0900af859009c3b3ae871ae0e12fad87e6"
  },
  "kernelspec": {
   "display_name": "Python 3.9.6 64-bit",
   "language": "python",
   "name": "python3"
  },
  "language_info": {
   "codemirror_mode": {
    "name": "ipython",
    "version": 3
   },
   "file_extension": ".py",
   "mimetype": "text/x-python",
   "name": "python",
   "nbconvert_exporter": "python",
   "pygments_lexer": "ipython3",
   "version": "3.8.10"
  },
  "orig_nbformat": 4
 },
 "nbformat": 4,
 "nbformat_minor": 2
}
